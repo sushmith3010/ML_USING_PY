{
 "cells": [
  {
   "cell_type": "code",
   "execution_count": 1,
   "id": "5de0fae1-d570-4a8c-8732-435f044677e0",
   "metadata": {},
   "outputs": [
    {
     "name": "stderr",
     "output_type": "stream",
     "text": [
      "C:\\Users\\HP\\AppData\\Roaming\\Python\\Python312\\site-packages\\sklearn\\base.py:376: InconsistentVersionWarning: Trying to unpickle estimator LinearRegression from version 1.4.2 when using version 1.5.1. This might lead to breaking code or invalid results. Use at your own risk. For more info please refer to:\n",
      "https://scikit-learn.org/stable/model_persistence.html#security-maintainability-limitations\n",
      "  warnings.warn(\n"
     ]
    }
   ],
   "source": [
    "from joblib import dump,load\n",
    "import numpy as np\n",
    "model  = load('housing.joblib')"
   ]
  },
  {
   "cell_type": "code",
   "execution_count": 2,
   "id": "c5ab15c5-c9ea-4d7f-a090-c9215d616e0b",
   "metadata": {},
   "outputs": [
    {
     "data": {
      "text/plain": [
       "array([179.68872431])"
      ]
     },
     "execution_count": 2,
     "metadata": {},
     "output_type": "execute_result"
    }
   ],
   "source": [
    "features = np.array([[-5.43942006, 4.12628155, -1.6165014, -0.67288841, -1.42262747,\n",
    "       -11.44443979304, -49.31238772,  7.61111401, -26.0016879 , -0.5778192 ,\n",
    "       -0.97491834,  0.41164221, -66.86091034]])\n",
    "model.predict(features)"
   ]
  },
  {
   "cell_type": "code",
   "execution_count": 3,
   "id": "416d8ff5-eb98-439a-bfa0-08e1689c2f67",
   "metadata": {},
   "outputs": [
    {
     "name": "stdout",
     "output_type": "stream",
     "text": [
      "[14914.16411774]\n"
     ]
    }
   ],
   "source": [
    "price=model.predict(features)*83\n",
    "print(price)"
   ]
  },
  {
   "cell_type": "code",
   "execution_count": 4,
   "id": "76e0e5ff-7d9a-4051-8c60-c722ce9b07d8",
   "metadata": {},
   "outputs": [
    {
     "name": "stdout",
     "output_type": "stream",
     "text": [
      "[15809.0139648]\n"
     ]
    }
   ],
   "source": [
    "total_price=(price)+((price*6)/100)\n",
    "print(total_price)"
   ]
  },
  {
   "cell_type": "code",
   "execution_count": 5,
   "id": "affde0e3-ccbc-48d2-bf93-95df32709b9c",
   "metadata": {},
   "outputs": [],
   "source": [
    "# total price comprises of 6% gst to the normal price"
   ]
  }
 ],
 "metadata": {
  "kernelspec": {
   "display_name": "Python 3 (ipykernel)",
   "language": "python",
   "name": "python3"
  },
  "language_info": {
   "codemirror_mode": {
    "name": "ipython",
    "version": 3
   },
   "file_extension": ".py",
   "mimetype": "text/x-python",
   "name": "python",
   "nbconvert_exporter": "python",
   "pygments_lexer": "ipython3",
   "version": "3.12.4"
  }
 },
 "nbformat": 4,
 "nbformat_minor": 5
}
